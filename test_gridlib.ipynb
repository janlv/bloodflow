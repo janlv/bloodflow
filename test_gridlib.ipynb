{
 "cells": [
  {
   "cell_type": "code",
   "execution_count": 4,
   "metadata": {},
   "outputs": [
    {
     "name": "stdout",
     "output_type": "stream",
     "text": [
      "  Creating uniform grid ... done\n",
      "  Calculating distance map ... done\n",
      "  Thresholding grid ... done\n",
      "  Dim:   [ 30  30 175]\n",
      "  Voxel: [1.72119508e-05 1.72119508e-05 1.72119508e-05]\n",
      "  Size:  [0.00049936 0.00049926 0.003     ]\n",
      "  Saved Stenosis_Hamed__30x30x175.vtk\n"
     ]
    },
    {
     "data": {
      "application/vnd.jupyter.widget-view+json": {
       "model_id": "b09852b88a784332b3a6524b6fa89a77",
       "version_major": 2,
       "version_minor": 0
      },
      "text/plain": [
       "Widget(value=\"<iframe src='http://localhost:59164/index.html?ui=P_0x13ed31450_3&reconnect=auto' style='width: …"
      ]
     },
     "metadata": {},
     "output_type": "display_data"
    }
   ],
   "source": [
    "from gridlib import grid_from_surface, surface_from_stl\n",
    "import numpy as np\n",
    "import pyvista as pv\n",
    "\n",
    "# Create grid from an STL-file named 'sphere.stl'\n",
    "# Default Grid arguments are dx=1, voxel=(1,1,1), and echo=False\n",
    "stl_file = 'Stenosis_Hamed.stl'\n",
    "surface = surface_from_stl(stl_file, nsub=1, subfilter='loop')\n",
    "grid = grid_from_surface(surface, threshold=0, echo=True)\n",
    "grid.save(stl_file)\n",
    "grid.plot(grid=False, surface=False, scalars='distance')"
   ]
  },
  {
   "cell_type": "code",
   "execution_count": null,
   "metadata": {},
   "outputs": [],
   "source": [
    "grid.bounds"
   ]
  },
  {
   "cell_type": "code",
   "execution_count": null,
   "metadata": {},
   "outputs": [],
   "source": [
    "grid.surface.bounds"
   ]
  },
  {
   "cell_type": "code",
   "execution_count": null,
   "metadata": {},
   "outputs": [],
   "source": [
    "grid = Grid(dx=2e-5)\n",
    "surf = grid._surface_from_stl(stl_file)\n",
    "grid._set_limits(surf)\n",
    "grid.bounds\n",
    "# ugrid = grid._uniform_grid()\n",
    "# surf.bounds\n",
    "#surf.plot(show_edges=True, show_axes=True)\n",
    "#cells = surf.cell_centers().points\n",
    "#dist, idx = KDTree(cells).query(ugrid.cells)\n",
    "#mask = surf.edge_mask(45) #.astype(int)\n",
    "#ind = mask.nonzero()\n",
    "\n",
    "# pl = pv.Plotter()\n",
    "# pl.add_mesh(surf, show_edges=True)\n",
    "# pl.add_mesh(surf.cell_centers(), color='r', point_size=8, render_points_as_spheres=True)\n",
    "# pl.add_arrows(surf.cell_centers().points, surf.cell_normals, color='r', mag=2e-5)\n",
    "# pl.add_mesh(surf.points, color='b', point_size=8, render_points_as_spheres=True)\n",
    "# pl.add_arrows(surf.points, surf.point_normals, color='b', mag=2e-5)\n",
    "# pl.show()\n",
    "\n"
   ]
  },
  {
   "cell_type": "code",
   "execution_count": null,
   "metadata": {},
   "outputs": [],
   "source": [
    "ab = [(0,1),(2,3),(2,5)]\n",
    "a,b = list(zip(*ab))\n",
    "#next((i for i,_a in enumerate(a) if _a==2), None)\n",
    "if 2 in a:\n",
    "    print(a.index(2))\n",
    "\n",
    "#print(a)\n",
    "#print(b)\n",
    "#cd = list(zip(a,b))\n",
    "#print(cd)"
   ]
  },
  {
   "cell_type": "code",
   "execution_count": null,
   "metadata": {},
   "outputs": [],
   "source": [
    "from itertools import tee, pairwise, filterfalse\n",
    "import numpy as np\n",
    "import pyvista as pv\n",
    "import matplotlib.pyplot as pl\n",
    "%matplotlib widget\n",
    "def line_segments(surf):\n",
    "    ugrid = surf.cast_to_unstructured_grid()\n",
    "    connect = ugrid.cell_connectivity\n",
    "    # Array of point-pairs that define a line\n",
    "    pairs = np.array([*pairwise(connect)])\n",
    "    # We only need lines within each cell, but the pairs array\n",
    "    # also contains lines between cell. The offset array holds the\n",
    "    # positions of these extra point-pairs that we need to remove.\n",
    "    # However, we skip the first and last offset entry\n",
    "    remove_list = ugrid.offset[1:-1]-1\n",
    "    pairs = np.delete(pairs, remove_list, axis=0)\n",
    "    a, b = list(zip(*pairs))\n",
    "    A = np.vstack(ugrid.points[a, :])\n",
    "    B = np.vstack(ugrid.points[b, :])\n",
    "    # Calculate length of each line segment\n",
    "    C = np.sqrt(np.sum((A-B)**2, axis=1))\n",
    "    return C\n",
    "\n",
    "stl_file = 'Stenosis_Hamed.stl'\n",
    "surf = pv.read(stl_file).extract_surface()\n",
    "lines = line_segments(surf)\n",
    "pl.figure()\n",
    "pl.plot(lines, '*')\n",
    "M = np.mean(lines)\n",
    "pl.plot([1, len(lines)], M*np.ones(2), 'r')\n"
   ]
  },
  {
   "cell_type": "code",
   "execution_count": null,
   "metadata": {},
   "outputs": [],
   "source": [
    "from itertools import permutations\n",
    "pairs = ((a,b) for a,b in permutations(range(3), 2) if b>a)\n",
    "list(zip(*pairs))"
   ]
  },
  {
   "cell_type": "code",
   "execution_count": null,
   "metadata": {},
   "outputs": [],
   "source": [
    "\n",
    "stl = pv.read(stl_file)\n",
    "mask = stl.edge_mask(45)\n",
    "sub = stl.subdivide(1)\n",
    "stl.plot(show_edges=True, scalars=mask)\n",
    "#stl.plot_normals(mag=0.00003, faces=True, show_edges=True)\n"
   ]
  },
  {
   "cell_type": "code",
   "execution_count": null,
   "metadata": {},
   "outputs": [],
   "source": [
    "# It is easy to create new grid arrays \n",
    "grid['rho'] = np.zeros(grid.n_cells)\n",
    "grid.plot(scalars='rho', jupyter_backend='static', ambient=0.5)\n",
    "\n",
    "# Grid indexing can be used if the grid array depend in position\n",
    "i,j,k = grid.index()\n",
    "i0, j0, k0 = 0.5*grid.dim\n",
    "grid['core'] = 2*((i-i0)**2 + (j-j0)**2 + (k-k0)**2 <= 6**2)\n",
    "\n",
    "# The grid index matrix given by grid.ijk() can also be used\n",
    "grid['shell'] = 2*(np.sum((grid.ijk()-0.5*grid.dim)**2, axis=1) > 5**2)\n"
   ]
  },
  {
   "cell_type": "code",
   "execution_count": null,
   "metadata": {},
   "outputs": [],
   "source": [
    "A = np.ones((2,2), dtype=bool)\n",
    "B = np.ones((2,2), dtype=bool)\n",
    "A*B\n",
    "# np.prod(np.ones((2,2)), np.ones((2,2)))"
   ]
  }
 ],
 "metadata": {
  "kernelspec": {
   "display_name": "Python 3",
   "language": "python",
   "name": "python3"
  },
  "language_info": {
   "codemirror_mode": {
    "name": "ipython",
    "version": 3
   },
   "file_extension": ".py",
   "mimetype": "text/x-python",
   "name": "python",
   "nbconvert_exporter": "python",
   "pygments_lexer": "ipython3",
   "version": "3.11.6"
  },
  "orig_nbformat": 4
 },
 "nbformat": 4,
 "nbformat_minor": 2
}
