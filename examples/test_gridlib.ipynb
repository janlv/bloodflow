{
 "cells": [
  {
   "cell_type": "code",
   "execution_count": null,
   "metadata": {},
   "outputs": [],
   "source": [
    "from gridlib import Surface, Grid\n",
    "\n",
    "stl_file = 'examples/Stenosis_Hamed.stl'\n",
    "# Create a surface from the stl-file\n",
    "# Use subdivide > 0 to refine the surface if necessary\n",
    "surface = Surface(stl_file, subdivide=1, subfilter='loop')\n",
    "# Define a new grid. If dx is None (default), the mean line lengths of \n",
    "# the surface is used as grid resolution\n",
    "grid = Grid(surface, dx=2e-5, echo=True)\n",
    "# Generate grid by removing cells outside the wall cells. \n",
    "# Wall cells are defined as cells with lattice links that cross the surface.\n",
    "# Choose between coords='cells' (surface cell center) or 'points' (surface cell vertices)\n",
    "grid.create(coords='points')\n",
    "grid.save()\n",
    "# Note that the interior fluid nodes are covered by wall and solid nodes\n",
    "grid.plot_grid(scalars='fluid', clip='x', ambient=1)\n"
   ]
  },
  {
   "cell_type": "code",
   "execution_count": null,
   "metadata": {},
   "outputs": [],
   "source": [
    "# Show wall nodes (nodes with links that cross the surface) and the distance vector \n",
    "# (as a cyan colored line) pointing from the node centers to the surface \n",
    "pl = grid.plot_grid(clip='x', color='red', opacity=0.5, wall=True)\n",
    "grid.plot_surface(pl, clip='x')"
   ]
  },
  {
   "cell_type": "code",
   "execution_count": null,
   "metadata": {},
   "outputs": [],
   "source": [
    "import numpy as np\n",
    "\n",
    "# It is easy to create new grid arrays\n",
    "grid['rho'] = np.zeros(grid.n_cells)\n",
    "#grid.plot(scalars='rho', ambient=0.5)\n",
    "\n",
    "# Grid indexing can be used if the grid array depend in position\n",
    "i,j,k = grid.index()\n",
    "i0, j0, k0 = 0.5*grid.dim\n",
    "grid['core'] = 1*((i-i0)**2 + (j-j0)**2 + (k-k0)**2 <= 10**2)\n",
    "#grid.plot(scalars='core', ambient=0.5)\n",
    "\n",
    "# The grid index matrix given by grid.ijk() can also be used\n",
    "grid['shell'] = 1*(np.sum((grid.ijk()-0.5*grid.dim)**2, axis=1) > 10**2)\n",
    "grid.plot(scalars='shell', ambient=0.5)\n",
    "\n"
   ]
  },
  {
   "cell_type": "code",
   "execution_count": null,
   "metadata": {},
   "outputs": [],
   "source": [
    "# Type ? to get usage information\n",
    "Surface?"
   ]
  }
 ],
 "metadata": {
  "kernelspec": {
   "display_name": "Python 3",
   "language": "python",
   "name": "python3"
  },
  "language_info": {
   "codemirror_mode": {
    "name": "ipython",
    "version": 3
   },
   "file_extension": ".py",
   "mimetype": "text/x-python",
   "name": "python",
   "nbconvert_exporter": "python",
   "pygments_lexer": "ipython3",
   "version": "3.11.6"
  },
  "orig_nbformat": 4
 },
 "nbformat": 4,
 "nbformat_minor": 2
}
