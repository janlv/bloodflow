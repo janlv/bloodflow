{
 "cells": [
  {
   "cell_type": "code",
   "execution_count": null,
   "metadata": {},
   "outputs": [],
   "source": [
    "#import sys\n",
    "from pathlib import Path\n",
    "#sys.path.append(str(Path.home()/'github/bloodflow'))\n",
    "from gridlib import Grid, Surface\n",
    "\n",
    "stl_file = 'examples/Stenosis_Hamed.stl'\n",
    "surface = Surface(stl_file, subdivide=1, subfilter='loop')\n",
    "grid = Grid(surface, echo=True)\n",
    "grid.create(threshold=0)\n",
    "grid.plot_mesh(grid=False, surface=False, clip='x', scalars='distance', cmap='jet', ambient=.7)\n",
    "grid.save()"
   ]
  },
  {
   "cell_type": "code",
   "execution_count": null,
   "metadata": {},
   "outputs": [],
   "source": [
    "import numpy as np\n",
    "# It is easy to create new grid arrays\n",
    "grid['rho'] = np.zeros(grid.n_cells)\n",
    "grid.plot(scalars='rho', ambient=0.5)\n",
    "\n",
    "# Grid indexing can be used if the grid array depend in position\n",
    "i,j,k = grid.index()\n",
    "i0, j0, k0 = 0.5*grid.dim\n",
    "grid['core'] = 2*((i-i0)**2 + (j-j0)**2 + (k-k0)**2 <= 6**2)\n",
    "\n",
    "# The grid index matrix given by grid.ijk() can also be used\n",
    "grid['shell'] = 2*(np.sum((grid.ijk()-0.5*grid.dim)**2, axis=1) > 5**2)\n",
    "\n",
    "grid.save()"
   ]
  }
 ],
 "metadata": {
  "kernelspec": {
   "display_name": "Python 3",
   "language": "python",
   "name": "python3"
  },
  "language_info": {
   "codemirror_mode": {
    "name": "ipython",
    "version": 3
   },
   "file_extension": ".py",
   "mimetype": "text/x-python",
   "name": "python",
   "nbconvert_exporter": "python",
   "pygments_lexer": "ipython3",
   "version": "3.11.6"
  },
  "orig_nbformat": 4
 },
 "nbformat": 4,
 "nbformat_minor": 2
}
